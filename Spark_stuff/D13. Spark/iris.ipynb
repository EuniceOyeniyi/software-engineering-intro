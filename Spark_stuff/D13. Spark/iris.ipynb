{
 "cells": [
  {
   "cell_type": "markdown",
   "metadata": {},
   "source": [
    "## Spark\n",
    "\n",
    "In the same way that for many programs hellow word is the first program in spark is computing pi\n"
   ]
  },
  {
   "cell_type": "code",
   "execution_count": 1,
   "metadata": {},
   "outputs": [
    {
     "ename": "NameError",
     "evalue": "name 'sc' is not defined",
     "output_type": "error",
     "traceback": [
      "\u001b[1;31m---------------------------------------------------------------------------\u001b[0m",
      "\u001b[1;31mNameError\u001b[0m                                 Traceback (most recent call last)",
      "\u001b[1;32mc:\\Users\\halle\\Documents\\software-engineering-intro\\Spark_stuff\\D13. Spark\\iris.ipynb Cell 2\u001b[0m in \u001b[0;36m<cell line: 6>\u001b[1;34m()\u001b[0m\n\u001b[0;32m      <a href='vscode-notebook-cell:/c%3A/Users/halle/Documents/software-engineering-intro/Spark_stuff/D13.%20Spark/iris.ipynb#ch0000001?line=3'>4</a>\u001b[0m  x, y \u001b[39m=\u001b[39m random\u001b[39m.\u001b[39mrandom(), random\u001b[39m.\u001b[39mrandom()\n\u001b[0;32m      <a href='vscode-notebook-cell:/c%3A/Users/halle/Documents/software-engineering-intro/Spark_stuff/D13.%20Spark/iris.ipynb#ch0000001?line=4'>5</a>\u001b[0m  \u001b[39mreturn\u001b[39;00m x\u001b[39m*\u001b[39mx \u001b[39m+\u001b[39m y\u001b[39m*\u001b[39my \u001b[39m<\u001b[39m \u001b[39m1\u001b[39m\n\u001b[1;32m----> <a href='vscode-notebook-cell:/c%3A/Users/halle/Documents/software-engineering-intro/Spark_stuff/D13.%20Spark/iris.ipynb#ch0000001?line=5'>6</a>\u001b[0m count \u001b[39m=\u001b[39m sc\u001b[39m.\u001b[39mparallelize(\u001b[39mrange\u001b[39m(\u001b[39m0\u001b[39m, NUM_SAMPLES))\u001b[39m.\u001b[39mfilter(inside)\u001b[39m.\u001b[39mcount()\n\u001b[0;32m      <a href='vscode-notebook-cell:/c%3A/Users/halle/Documents/software-engineering-intro/Spark_stuff/D13.%20Spark/iris.ipynb#ch0000001?line=6'>7</a>\u001b[0m pi \u001b[39m=\u001b[39m \u001b[39m4\u001b[39m \u001b[39m*\u001b[39m count \u001b[39m/\u001b[39m NUM_SAMPLES\n\u001b[0;32m      <a href='vscode-notebook-cell:/c%3A/Users/halle/Documents/software-engineering-intro/Spark_stuff/D13.%20Spark/iris.ipynb#ch0000001?line=7'>8</a>\u001b[0m \u001b[39mprint\u001b[39m(\u001b[39m\"\u001b[39m\u001b[39mPi is roughly\u001b[39m\u001b[39m\"\u001b[39m, pi)\n",
      "\u001b[1;31mNameError\u001b[0m: name 'sc' is not defined"
     ]
    }
   ],
   "source": [
    "import random\n",
    "NUM_SAMPLES = 100000000\n",
    "def inside(p):\n",
    " x, y = random.random(), random.random()\n",
    " return x*x + y*y < 1\n",
    "count = sc.parallelize(range(0, NUM_SAMPLES)).filter(inside).count()\n",
    "pi = 4 * count / NUM_SAMPLES\n",
    "print(\"Pi is roughly\", pi)"
   ]
  },
  {
   "cell_type": "markdown",
   "metadata": {},
   "source": [
    "## SQL and DataFrames\n",
    "\n",
    "There are two approaches to Spark, the DataFrame approach and the RDD approach. We are going to learn the SQL approach since it is works in the way spark intends."
   ]
  },
  {
   "cell_type": "code",
   "execution_count": 2,
   "metadata": {},
   "outputs": [],
   "source": [
    "from pyspark.sql import SparkSession\n",
    "from pyspark.sql.types import StructType, StructField\n",
    "from pyspark.sql.types import *\n",
    "from pyspark.ml.feature import VectorAssembler\n",
    "from pyspark.ml.feature import StringIndexer\n",
    "from pyspark.ml.classification import RandomForestClassifier\n",
    "from pyspark.ml.evaluation import MulticlassClassificationEvaluator"
   ]
  },
  {
   "cell_type": "code",
   "execution_count": 10,
   "id": "13c02731",
   "metadata": {},
   "outputs": [],
   "source": [
    "spark = SparkSession.builder.appName('iris_clf').getOrCreate()"
   ]
  },
  {
   "cell_type": "code",
   "execution_count": 20,
   "id": "df663859",
   "metadata": {},
   "outputs": [
    {
     "name": "stdout",
     "output_type": "stream",
     "text": [
      "+------------+-----------+------------+-----------+------+\n",
      "|sepal_length|sepal_width|petal_length|petal_width|  type|\n",
      "+------------+-----------+------------+-----------+------+\n",
      "|         5.1|        3.5|         1.4|        0.2|Setosa|\n",
      "|         4.9|        3.0|         1.4|        0.2|Setosa|\n",
      "|         4.7|        3.2|         1.3|        0.2|Setosa|\n",
      "|         4.6|        3.1|         1.5|        0.2|Setosa|\n",
      "|         5.0|        3.6|         1.4|        0.2|Setosa|\n",
      "+------------+-----------+------------+-----------+------+\n",
      "only showing top 5 rows\n",
      "\n"
     ]
    }
   ],
   "source": [
    "df = spark.read.csv('iris.csv',header=True,inferSchema=True)\n",
    "df.show(5)"
   ]
  },
  {
   "cell_type": "code",
   "execution_count": 21,
   "id": "67823d38",
   "metadata": {},
   "outputs": [
    {
     "name": "stdout",
     "output_type": "stream",
     "text": [
      "root\n",
      " |-- sepal_length: double (nullable = true)\n",
      " |-- sepal_width: double (nullable = true)\n",
      " |-- petal_length: double (nullable = true)\n",
      " |-- petal_width: double (nullable = true)\n",
      " |-- type: string (nullable = true)\n",
      "\n"
     ]
    }
   ],
   "source": [
    "df.printSchema()"
   ]
  },
  {
   "cell_type": "code",
   "execution_count": 22,
   "id": "9723215c",
   "metadata": {},
   "outputs": [],
   "source": [
    "schema = StructType([\n",
    "    StructField('sepal_length',DoubleType()),\n",
    "    StructField('sepal_width',DoubleType()),\n",
    "    StructField('petal_length',DoubleType()),\n",
    "    StructField('petal_width',DoubleType()),\n",
    "    StructField('type',StringType())\n",
    "    ])"
   ]
  },
  {
   "cell_type": "code",
   "execution_count": 23,
   "id": "25db74ac",
   "metadata": {},
   "outputs": [
    {
     "name": "stdout",
     "output_type": "stream",
     "text": [
      "root\n",
      " |-- sepal_length: double (nullable = true)\n",
      " |-- sepal_width: double (nullable = true)\n",
      " |-- petal_length: double (nullable = true)\n",
      " |-- petal_width: double (nullable = true)\n",
      " |-- type: string (nullable = true)\n",
      "\n"
     ]
    }
   ],
   "source": [
    "df2 = spark.read.csv('iris.csv',header=True,schema=schema)\n",
    "df2.printSchema()"
   ]
  },
  {
   "cell_type": "code",
   "execution_count": 24,
   "id": "b4d67da5",
   "metadata": {},
   "outputs": [
    {
     "name": "stdout",
     "output_type": "stream",
     "text": [
      "+------------+-----------+------------+-----------+------+-----------------+\n",
      "|sepal_length|sepal_width|petal_length|petal_width|  type|         features|\n",
      "+------------+-----------+------------+-----------+------+-----------------+\n",
      "|         5.1|        3.5|         1.4|        0.2|Setosa|[5.1,3.5,1.4,0.2]|\n",
      "|         4.9|        3.0|         1.4|        0.2|Setosa|[4.9,3.0,1.4,0.2]|\n",
      "|         4.7|        3.2|         1.3|        0.2|Setosa|[4.7,3.2,1.3,0.2]|\n",
      "|         4.6|        3.1|         1.5|        0.2|Setosa|[4.6,3.1,1.5,0.2]|\n",
      "|         5.0|        3.6|         1.4|        0.2|Setosa|[5.0,3.6,1.4,0.2]|\n",
      "+------------+-----------+------------+-----------+------+-----------------+\n",
      "only showing top 5 rows\n",
      "\n"
     ]
    }
   ],
   "source": [
    "from numpy import vectorize\n",
    "\n",
    "\n",
    "input_col = ['sepal_length','sepal_width','petal_length', 'petal_width']\n",
    "vectorizer = VectorAssembler(inputCols=input_col, outputCol='features')\n",
    "\n",
    "df = vectorizer.transform(df)\n",
    "df.show(5)"
   ]
  },
  {
   "cell_type": "code",
   "execution_count": 27,
   "id": "7869df79",
   "metadata": {},
   "outputs": [
    {
     "name": "stdout",
     "output_type": "stream",
     "text": [
      "+------------+-----------+------------+-----------+------+-----------------+------------+\n",
      "|sepal_length|sepal_width|petal_length|petal_width|  type|         features|indexed_type|\n",
      "+------------+-----------+------------+-----------+------+-----------------+------------+\n",
      "|         5.1|        3.5|         1.4|        0.2|Setosa|[5.1,3.5,1.4,0.2]|         0.0|\n",
      "|         4.9|        3.0|         1.4|        0.2|Setosa|[4.9,3.0,1.4,0.2]|         0.0|\n",
      "|         4.7|        3.2|         1.3|        0.2|Setosa|[4.7,3.2,1.3,0.2]|         0.0|\n",
      "|         4.6|        3.1|         1.5|        0.2|Setosa|[4.6,3.1,1.5,0.2]|         0.0|\n",
      "|         5.0|        3.6|         1.4|        0.2|Setosa|[5.0,3.6,1.4,0.2]|         0.0|\n",
      "+------------+-----------+------------+-----------+------+-----------------+------------+\n",
      "only showing top 5 rows\n",
      "\n"
     ]
    }
   ],
   "source": [
    "indexer = StringIndexer(inputCol='type', outputCol='indexed_type')\n",
    "df = indexer.fit(df).transform(df)\n",
    "df.show(5)"
   ]
  },
  {
   "cell_type": "code",
   "execution_count": 37,
   "metadata": {},
   "outputs": [
    {
     "name": "stdout",
     "output_type": "stream",
     "text": [
      "+------------+-----------+------------+-----------+------+-----------------+------------+\n",
      "|sepal_length|sepal_width|petal_length|petal_width|  type|         features|indexed_type|\n",
      "+------------+-----------+------------+-----------+------+-----------------+------------+\n",
      "|         4.3|        3.0|         1.1|        0.1|Setosa|[4.3,3.0,1.1,0.1]|         0.0|\n",
      "|         4.4|        2.9|         1.4|        0.2|Setosa|[4.4,2.9,1.4,0.2]|         0.0|\n",
      "|         4.4|        3.0|         1.3|        0.2|Setosa|[4.4,3.0,1.3,0.2]|         0.0|\n",
      "|         4.4|        3.2|         1.3|        0.2|Setosa|[4.4,3.2,1.3,0.2]|         0.0|\n",
      "|         4.5|        2.3|         1.3|        0.3|Setosa|[4.5,2.3,1.3,0.3]|         0.0|\n",
      "+------------+-----------+------------+-----------+------+-----------------+------------+\n",
      "only showing top 5 rows\n",
      "\n"
     ]
    }
   ],
   "source": [
    "df_train, df_test = df.randomSplit([0.8,0.2], seed=0)\n",
    "df_train.show(5)"
   ]
  },
  {
   "cell_type": "code",
   "execution_count": 35,
   "metadata": {},
   "outputs": [],
   "source": [
    "# df_train,df_val, df_test = df.randomSplit([0.7,0.1,0.2], seed=0)\n",
    "# df_val.show()"
   ]
  },
  {
   "cell_type": "code",
   "execution_count": 38,
   "id": "f76600bf",
   "metadata": {},
   "outputs": [
    {
     "name": "stdout",
     "output_type": "stream",
     "text": [
      "+------------+-----------+------------+-----------+------+-----------------+------------+--------------+-------------+----------+\n",
      "|sepal_length|sepal_width|petal_length|petal_width|  type|         features|indexed_type| rawPrediction|  probability|prediction|\n",
      "+------------+-----------+------------+-----------+------+-----------------+------------+--------------+-------------+----------+\n",
      "|         4.9|        3.1|         1.5|        0.2|Setosa|[4.9,3.1,1.5,0.2]|         0.0|[20.0,0.0,0.0]|[1.0,0.0,0.0]|       0.0|\n",
      "|         4.9|        3.6|         1.4|        0.1|Setosa|[4.9,3.6,1.4,0.1]|         0.0|[20.0,0.0,0.0]|[1.0,0.0,0.0]|       0.0|\n",
      "|         5.0|        3.4|         1.6|        0.4|Setosa|[5.0,3.4,1.6,0.4]|         0.0|[20.0,0.0,0.0]|[1.0,0.0,0.0]|       0.0|\n",
      "|         5.0|        3.5|         1.3|        0.3|Setosa|[5.0,3.5,1.3,0.3]|         0.0|[20.0,0.0,0.0]|[1.0,0.0,0.0]|       0.0|\n",
      "|         5.0|        3.5|         1.6|        0.6|Setosa|[5.0,3.5,1.6,0.6]|         0.0|[16.0,4.0,0.0]|[0.8,0.2,0.0]|       0.0|\n",
      "+------------+-----------+------------+-----------+------+-----------------+------------+--------------+-------------+----------+\n",
      "only showing top 5 rows\n",
      "\n"
     ]
    }
   ],
   "source": [
    "rf_clf = RandomForestClassifier(featuresCol='features',labelCol='indexed_type')\n",
    "rf_clf = rf_clf.fit(df_train)\n",
    "df_test = rf_clf.transform(df_test)\n",
    "df_test.show(5)"
   ]
  },
  {
   "cell_type": "code",
   "execution_count": 41,
   "metadata": {},
   "outputs": [
    {
     "name": "stdout",
     "output_type": "stream",
     "text": [
      "+------+-----------------+------------+--------------+-------------+----------+\n",
      "|  type|         features|indexed_type| rawPrediction|  probability|prediction|\n",
      "+------+-----------------+------------+--------------+-------------+----------+\n",
      "|Setosa|[4.9,3.1,1.5,0.2]|         0.0|[20.0,0.0,0.0]|[1.0,0.0,0.0]|       0.0|\n",
      "|Setosa|[4.9,3.6,1.4,0.1]|         0.0|[20.0,0.0,0.0]|[1.0,0.0,0.0]|       0.0|\n",
      "|Setosa|[5.0,3.4,1.6,0.4]|         0.0|[20.0,0.0,0.0]|[1.0,0.0,0.0]|       0.0|\n",
      "|Setosa|[5.0,3.5,1.3,0.3]|         0.0|[20.0,0.0,0.0]|[1.0,0.0,0.0]|       0.0|\n",
      "|Setosa|[5.0,3.5,1.6,0.6]|         0.0|[16.0,4.0,0.0]|[0.8,0.2,0.0]|       0.0|\n",
      "+------+-----------------+------------+--------------+-------------+----------+\n",
      "only showing top 5 rows\n",
      "\n"
     ]
    }
   ],
   "source": [
    "df_test.select('type','features','indexed_type','rawPrediction','probability','prediction').show(5)"
   ]
  },
  {
   "cell_type": "code",
   "execution_count": 43,
   "id": "6f0f480d",
   "metadata": {},
   "outputs": [
    {
     "data": {
      "text/plain": [
       "1.0"
      ]
     },
     "execution_count": 43,
     "metadata": {},
     "output_type": "execute_result"
    }
   ],
   "source": [
    "criterion = MulticlassClassificationEvaluator(labelCol='indexed_type',predictionCol='prediction')\n",
    "accuracy = criterion.evaluate(df_test)\n",
    "accuracy"
   ]
  },
  {
   "cell_type": "code",
   "execution_count": null,
   "id": "b2f451c6",
   "metadata": {},
   "outputs": [],
   "source": []
  },
  {
   "cell_type": "code",
   "execution_count": null,
   "metadata": {},
   "outputs": [],
   "source": []
  },
  {
   "cell_type": "code",
   "execution_count": null,
   "id": "73a0a9fc",
   "metadata": {},
   "outputs": [],
   "source": []
  },
  {
   "cell_type": "markdown",
   "metadata": {},
   "source": [
    "## Session\n",
    "\n",
    "Spark needs to use a session in order to process data in a parallel way.\n",
    "\n",
    "A session can be built in many different ways, what is going to be a difference maker for most local machines is that we need to specify to spark to either get it or create it.\n",
    "\n",
    "We will use this session to define our Spark DataFrames.\n",
    "\n",
    "When Creating DataFrames we can let spark infer the schema."
   ]
  },
  {
   "cell_type": "code",
   "execution_count": 25,
   "metadata": {},
   "outputs": [
    {
     "name": "stdout",
     "output_type": "stream",
     "text": [
      "root\n",
      " |-- sepal_length: double (nullable = true)\n",
      " |-- sepal_width: double (nullable = true)\n",
      " |-- petal_length: double (nullable = true)\n",
      " |-- petal_width: double (nullable = true)\n",
      " |-- type: string (nullable = true)\n",
      "\n"
     ]
    }
   ],
   "source": []
  },
  {
   "cell_type": "markdown",
   "metadata": {},
   "source": [
    "Or we can create our own schema"
   ]
  },
  {
   "cell_type": "code",
   "execution_count": 24,
   "metadata": {},
   "outputs": [],
   "source": []
  },
  {
   "cell_type": "code",
   "execution_count": 22,
   "metadata": {},
   "outputs": [
    {
     "name": "stdout",
     "output_type": "stream",
     "text": [
      "root\n",
      " |-- sepal_length: double (nullable = true)\n",
      " |-- sepal_width: double (nullable = true)\n",
      " |-- petal_length: double (nullable = true)\n",
      " |-- petal_width: double (nullable = true)\n",
      " |-- type: string (nullable = true)\n",
      "\n"
     ]
    }
   ],
   "source": []
  },
  {
   "cell_type": "markdown",
   "metadata": {},
   "source": [
    "## Features\n",
    "\n",
    "Spark doesn`t need the X and Y separated in the standard format.\n",
    "\n",
    "As you will see throught the notebook spark will directly operate on the DataFrame after specifying an input and aoutput column.\n",
    "\n",
    "By default Spark takes a column called deatures as the input in all classifiers and the Y column is called labels\n",
    "\n",
    "We can create the  feature column by using a vector assembler"
   ]
  },
  {
   "cell_type": "code",
   "execution_count": 26,
   "metadata": {},
   "outputs": [
    {
     "name": "stdout",
     "output_type": "stream",
     "text": [
      "+------------+-----------+------------+-----------+------+-----------------+\n",
      "|sepal_length|sepal_width|petal_length|petal_width|  type|         features|\n",
      "+------------+-----------+------------+-----------+------+-----------------+\n",
      "|         5.1|        3.5|         1.4|        0.2|Setosa|[5.1,3.5,1.4,0.2]|\n",
      "|         4.9|        3.0|         1.4|        0.2|Setosa|[4.9,3.0,1.4,0.2]|\n",
      "|         4.7|        3.2|         1.3|        0.2|Setosa|[4.7,3.2,1.3,0.2]|\n",
      "|         4.6|        3.1|         1.5|        0.2|Setosa|[4.6,3.1,1.5,0.2]|\n",
      "|         5.0|        3.6|         1.4|        0.2|Setosa|[5.0,3.6,1.4,0.2]|\n",
      "|         5.4|        3.9|         1.7|        0.4|Setosa|[5.4,3.9,1.7,0.4]|\n",
      "|         4.6|        3.4|         1.4|        0.3|Setosa|[4.6,3.4,1.4,0.3]|\n",
      "|         5.0|        3.4|         1.5|        0.2|Setosa|[5.0,3.4,1.5,0.2]|\n",
      "|         4.4|        2.9|         1.4|        0.2|Setosa|[4.4,2.9,1.4,0.2]|\n",
      "|         4.9|        3.1|         1.5|        0.1|Setosa|[4.9,3.1,1.5,0.1]|\n",
      "|         5.4|        3.7|         1.5|        0.2|Setosa|[5.4,3.7,1.5,0.2]|\n",
      "|         4.8|        3.4|         1.6|        0.2|Setosa|[4.8,3.4,1.6,0.2]|\n",
      "|         4.8|        3.0|         1.4|        0.1|Setosa|[4.8,3.0,1.4,0.1]|\n",
      "|         4.3|        3.0|         1.1|        0.1|Setosa|[4.3,3.0,1.1,0.1]|\n",
      "|         5.8|        4.0|         1.2|        0.2|Setosa|[5.8,4.0,1.2,0.2]|\n",
      "|         5.7|        4.4|         1.5|        0.4|Setosa|[5.7,4.4,1.5,0.4]|\n",
      "|         5.4|        3.9|         1.3|        0.4|Setosa|[5.4,3.9,1.3,0.4]|\n",
      "|         5.1|        3.5|         1.4|        0.3|Setosa|[5.1,3.5,1.4,0.3]|\n",
      "|         5.7|        3.8|         1.7|        0.3|Setosa|[5.7,3.8,1.7,0.3]|\n",
      "|         5.1|        3.8|         1.5|        0.3|Setosa|[5.1,3.8,1.5,0.3]|\n",
      "+------------+-----------+------------+-----------+------+-----------------+\n",
      "only showing top 20 rows\n",
      "\n"
     ]
    }
   ],
   "source": [
    "numericCols = ['sepal_length', 'sepal_width', 'petal_length', 'petal_width']\n"
   ]
  },
  {
   "cell_type": "markdown",
   "metadata": {},
   "source": [
    "## Encoding\n",
    "\n",
    "We can use a string indexes in the same way as the vector assembler to ordinally encode our types"
   ]
  },
  {
   "cell_type": "code",
   "execution_count": 27,
   "metadata": {},
   "outputs": [
    {
     "name": "stdout",
     "output_type": "stream",
     "text": [
      "+------------+-----------+------------+-----------+------+-----------------+----------+\n",
      "|sepal_length|sepal_width|petal_length|petal_width|  type|         features|labelIndex|\n",
      "+------------+-----------+------------+-----------+------+-----------------+----------+\n",
      "|         5.1|        3.5|         1.4|        0.2|Setosa|[5.1,3.5,1.4,0.2]|       0.0|\n",
      "|         4.9|        3.0|         1.4|        0.2|Setosa|[4.9,3.0,1.4,0.2]|       0.0|\n",
      "|         4.7|        3.2|         1.3|        0.2|Setosa|[4.7,3.2,1.3,0.2]|       0.0|\n",
      "|         4.6|        3.1|         1.5|        0.2|Setosa|[4.6,3.1,1.5,0.2]|       0.0|\n",
      "|         5.0|        3.6|         1.4|        0.2|Setosa|[5.0,3.6,1.4,0.2]|       0.0|\n",
      "|         5.4|        3.9|         1.7|        0.4|Setosa|[5.4,3.9,1.7,0.4]|       0.0|\n",
      "|         4.6|        3.4|         1.4|        0.3|Setosa|[4.6,3.4,1.4,0.3]|       0.0|\n",
      "|         5.0|        3.4|         1.5|        0.2|Setosa|[5.0,3.4,1.5,0.2]|       0.0|\n",
      "|         4.4|        2.9|         1.4|        0.2|Setosa|[4.4,2.9,1.4,0.2]|       0.0|\n",
      "|         4.9|        3.1|         1.5|        0.1|Setosa|[4.9,3.1,1.5,0.1]|       0.0|\n",
      "+------------+-----------+------------+-----------+------+-----------------+----------+\n",
      "only showing top 10 rows\n",
      "\n"
     ]
    }
   ],
   "source": []
  },
  {
   "cell_type": "markdown",
   "metadata": {},
   "source": [
    "## Train/Test split\n",
    "\n",
    "Spark Dataframes come pre-equipped with a random split function that will give you as many portions as specified.\n",
    "\n",
    "The proportions for each portion are passed in a list"
   ]
  },
  {
   "cell_type": "code",
   "execution_count": 28,
   "metadata": {},
   "outputs": [],
   "source": []
  },
  {
   "cell_type": "markdown",
   "metadata": {},
   "source": [
    "## Classifiers\n",
    "\n",
    "Many Spark classifiers unfortunatelly do not handle good multylabel classification so be very carefull with which you choose.\n",
    "\n",
    "they can all be found here: https://spark.apache.org/docs/latest/ml-classification-regression.html"
   ]
  },
  {
   "cell_type": "markdown",
   "metadata": {},
   "source": [
    "## Specifying input and target\n",
    "\n",
    "As I said the default names are features an label, but we can also specify them"
   ]
  },
  {
   "cell_type": "code",
   "execution_count": 93,
   "metadata": {},
   "outputs": [],
   "source": []
  },
  {
   "cell_type": "markdown",
   "metadata": {},
   "source": [
    "## Fitting\n",
    "\n",
    "It is done in the same way as SKlearn"
   ]
  },
  {
   "cell_type": "code",
   "execution_count": 94,
   "metadata": {},
   "outputs": [],
   "source": []
  },
  {
   "cell_type": "markdown",
   "metadata": {},
   "source": [
    "## Predictions\n",
    "    \n",
    "This part is a little different. Spark will not output a prediction vector, it will direclty add a column to the DataFrame.\n",
    "\n",
    "To predict we call the method 'transform' from the classifier"
   ]
  },
  {
   "cell_type": "code",
   "execution_count": 95,
   "metadata": {},
   "outputs": [],
   "source": []
  },
  {
   "cell_type": "markdown",
   "metadata": {},
   "source": [
    "## Selecting\n",
    "\n",
    "This structures are built to be parallelized in the CPU so we cannot access them in a standard fashion.\n",
    "\n",
    "To get a subset of columns we need to use select"
   ]
  },
  {
   "cell_type": "code",
   "execution_count": 97,
   "metadata": {},
   "outputs": [
    {
     "name": "stdout",
     "output_type": "stream",
     "text": [
      "+------------+-----------+------------+-----------+----------+--------------------+----------+--------------------+\n",
      "|sepal_length|sepal_width|petal_length|petal_width|labelIndex|       rawPrediction|prediction|         probability|\n",
      "+------------+-----------+------------+-----------+----------+--------------------+----------+--------------------+\n",
      "|         4.3|        3.0|         1.1|        0.1|       0.0|      [20.0,0.0,0.0]|       0.0|       [1.0,0.0,0.0]|\n",
      "|         4.5|        2.3|         1.3|        0.3|       0.0|      [19.0,0.0,1.0]|       0.0|     [0.95,0.0,0.05]|\n",
      "|         4.6|        3.6|         1.0|        0.2|       0.0|      [20.0,0.0,0.0]|       0.0|       [1.0,0.0,0.0]|\n",
      "|         4.9|        3.1|         1.5|        0.2|       0.0|      [20.0,0.0,0.0]|       0.0|       [1.0,0.0,0.0]|\n",
      "|         4.9|        3.6|         1.4|        0.1|       0.0|      [20.0,0.0,0.0]|       0.0|       [1.0,0.0,0.0]|\n",
      "|         5.0|        3.4|         1.6|        0.4|       0.0|      [19.0,1.0,0.0]|       0.0|     [0.95,0.05,0.0]|\n",
      "|         5.0|        3.5|         1.3|        0.3|       0.0|      [20.0,0.0,0.0]|       0.0|       [1.0,0.0,0.0]|\n",
      "|         5.0|        3.5|         1.6|        0.6|       0.0|      [19.0,1.0,0.0]|       0.0|     [0.95,0.05,0.0]|\n",
      "|         5.1|        3.3|         1.7|        0.5|       0.0|      [19.0,1.0,0.0]|       0.0|     [0.95,0.05,0.0]|\n",
      "|         5.1|        3.5|         1.4|        0.3|       0.0|      [20.0,0.0,0.0]|       0.0|       [1.0,0.0,0.0]|\n",
      "|         5.1|        3.7|         1.5|        0.4|       0.0|      [19.0,1.0,0.0]|       0.0|     [0.95,0.05,0.0]|\n",
      "|         5.1|        3.8|         1.6|        0.2|       0.0|      [20.0,0.0,0.0]|       0.0|       [1.0,0.0,0.0]|\n",
      "|         5.2|        3.4|         1.4|        0.2|       0.0|      [20.0,0.0,0.0]|       0.0|       [1.0,0.0,0.0]|\n",
      "|         5.4|        3.7|         1.5|        0.2|       0.0|      [20.0,0.0,0.0]|       0.0|       [1.0,0.0,0.0]|\n",
      "|         5.4|        3.9|         1.3|        0.4|       0.0|      [19.0,1.0,0.0]|       0.0|     [0.95,0.05,0.0]|\n",
      "|         5.5|        2.4|         3.7|        1.0|       1.0|      [0.0,20.0,0.0]|       1.0|       [0.0,1.0,0.0]|\n",
      "|         5.6|        2.7|         4.2|        1.3|       1.0|      [0.0,20.0,0.0]|       1.0|       [0.0,1.0,0.0]|\n",
      "|         5.6|        2.8|         4.9|        2.0|       2.0|[0.0,2.0714285714...|       2.0|[0.0,0.1035714285...|\n",
      "|         5.6|        2.9|         3.6|        1.3|       1.0|      [0.0,20.0,0.0]|       1.0|       [0.0,1.0,0.0]|\n",
      "|         5.7|        2.5|         5.0|        2.0|       2.0|[0.0,2.0714285714...|       2.0|[0.0,0.1035714285...|\n",
      "|         5.7|        3.8|         1.7|        0.3|       0.0|      [20.0,0.0,0.0]|       0.0|       [1.0,0.0,0.0]|\n",
      "|         5.7|        4.4|         1.5|        0.4|       0.0|      [19.0,1.0,0.0]|       0.0|     [0.95,0.05,0.0]|\n",
      "|         5.8|        2.7|         4.1|        1.0|       1.0|[0.0,19.947368421...|       1.0|[0.0,0.9973684210...|\n",
      "|         5.9|        3.2|         4.8|        1.8|       1.0|[0.0,1.0714285714...|       2.0|[0.0,0.0535714285...|\n",
      "|         6.0|        3.0|         4.8|        1.8|       2.0|[0.0,1.0714285714...|       2.0|[0.0,0.0535714285...|\n",
      "+------------+-----------+------------+-----------+----------+--------------------+----------+--------------------+\n",
      "only showing top 25 rows\n",
      "\n"
     ]
    }
   ],
   "source": []
  },
  {
   "cell_type": "code",
   "execution_count": 98,
   "metadata": {},
   "outputs": [
    {
     "name": "stdout",
     "output_type": "stream",
     "text": [
      "+----------+----------+\n",
      "|labelIndex|prediction|\n",
      "+----------+----------+\n",
      "|       0.0|       0.0|\n",
      "|       0.0|       0.0|\n",
      "|       0.0|       0.0|\n",
      "|       0.0|       0.0|\n",
      "|       0.0|       0.0|\n",
      "|       0.0|       0.0|\n",
      "|       0.0|       0.0|\n",
      "|       0.0|       0.0|\n",
      "|       0.0|       0.0|\n",
      "|       0.0|       0.0|\n",
      "+----------+----------+\n",
      "only showing top 10 rows\n",
      "\n"
     ]
    }
   ],
   "source": []
  },
  {
   "cell_type": "markdown",
   "metadata": {},
   "source": [
    "## Evaluating\n",
    "\n",
    "In a very familiar format "
   ]
  },
  {
   "cell_type": "code",
   "execution_count": 100,
   "metadata": {},
   "outputs": [
    {
     "name": "stdout",
     "output_type": "stream",
     "text": [
      "Accuracy = 0.9754807071880243\n",
      "Test Error = 0.024519292811975735\n"
     ]
    }
   ],
   "source": []
  }
 ],
 "metadata": {
  "kernelspec": {
   "display_name": "Python 3.10.4 ('strive')",
   "language": "python",
   "name": "python3"
  },
  "language_info": {
   "codemirror_mode": {
    "name": "ipython",
    "version": 3
   },
   "file_extension": ".py",
   "mimetype": "text/x-python",
   "name": "python",
   "nbconvert_exporter": "python",
   "pygments_lexer": "ipython3",
   "version": "3.10.4"
  },
  "vscode": {
   "interpreter": {
    "hash": "cc1ca5f776d965e027b4b79c8cbd78d993506bb6ee7e574d17612d343bb0f3cf"
   }
  }
 },
 "nbformat": 4,
 "nbformat_minor": 5
}
